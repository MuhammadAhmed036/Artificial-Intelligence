{
  "nbformat": 4,
  "nbformat_minor": 0,
  "metadata": {
    "colab": {
      "provenance": [],
      "authorship_tag": "ABX9TyNoxjtYIBcz2ziTjsP0OHkF",
      "include_colab_link": true
    },
    "kernelspec": {
      "name": "python3",
      "display_name": "Python 3"
    },
    "language_info": {
      "name": "python"
    }
  },
  "cells": [
    {
      "cell_type": "markdown",
      "metadata": {
        "id": "view-in-github",
        "colab_type": "text"
      },
      "source": [
        "<a href=\"https://colab.research.google.com/github/MuhammadAhmed036/Artificial-Intelligence/blob/main/Lab2.ipynb\" target=\"_parent\"><img src=\"https://colab.research.google.com/assets/colab-badge.svg\" alt=\"Open In Colab\"/></a>"
      ]
    },
    {
      "cell_type": "code",
      "execution_count": 6,
      "metadata": {
        "colab": {
          "base_uri": "https://localhost:8080/"
        },
        "id": "4SH6vlt85YiC",
        "outputId": "57f3cbbd-764f-4e21-851f-ebb668408c7d"
      },
      "outputs": [
        {
          "output_type": "stream",
          "name": "stdout",
          "text": [
            "ENTER OBJECTS OF FIRST LIST\n",
            "Enter a value:2\n",
            "Enter a value:5\n",
            "Enter a value:6\n",
            "Enter a value:4\n",
            "Enter a value:5\n",
            "ENTER OBJECTS OF SECOND LIST\n",
            "Enter a value:2\n",
            "Enter a value:3\n",
            "Enter a value:5\n",
            "Enter a value:8\n",
            "Enter a value:9\n",
            "[2, 5, 6, 4, 5, 2, 3, 5, 8, 9]\n"
          ]
        },
        {
          "output_type": "execute_result",
          "data": {
            "text/plain": [
              "6"
            ]
          },
          "metadata": {},
          "execution_count": 6
        }
      ],
      "source": [
        "myList1=[]\n",
        "print(\"ENTER OBJECTS OF FIRST LIST\")\n",
        "for i in range(5):\n",
        "  val=input(\"Enter a value:\")\n",
        "  n=int(val)\n",
        "  myList1.append(n)\n",
        "\n",
        "myList2=[]\n",
        "print(\"ENTER OBJECTS OF SECOND LIST\")\n",
        "for i in range(5):\n",
        "  val=input(\"Enter a value:\")\n",
        "  n=int(val)\n",
        "  myList2.append(n)\n",
        "\n",
        "list3=myList1+myList2;\n",
        "print(list3)\n",
        "86\n",
        "0\n",
        "63\n",
        "4\n",
        "\n",
        "\n"
      ]
    },
    {
      "cell_type": "code",
      "source": [
        "def isPalindrome(word):\n",
        "  temp=word[::-1]\n",
        "  if temp.capitalize()==word.capitalize():\n",
        "    return True\n",
        "  else:\n",
        "    return False\n",
        "print (isPalindrome(\"AHMED\"))\n"
      ],
      "metadata": {
        "colab": {
          "base_uri": "https://localhost:8080/"
        },
        "id": "n-MzHQz39Et3",
        "outputId": "c2ef25b2-1cd6-4d3e-c248-290766a03e14"
      },
      "execution_count": 7,
      "outputs": [
        {
          "output_type": "stream",
          "name": "stdout",
          "text": [
            "False\n"
          ]
        }
      ]
    },
    {
      "cell_type": "code",
      "source": [
        "for indrow in range(3):\n",
        "     c.append ([])\n",
        "     for indcol in range(3):\n",
        "         c[indrow].append(0)\n",
        "         for indaux in range(3):\n",
        "             c[indrow][indcol]+= a[indrow][indaux] * b[indcol]\n",
        "print(c)"
      ],
      "metadata": {
        "colab": {
          "base_uri": "https://localhost:8080/",
          "height": 235
        },
        "id": "KmiLFJkD90fZ",
        "outputId": "ed3cc7c6-b0f7-45ec-8c49-8b48ec784283"
      },
      "execution_count": 13,
      "outputs": [
        {
          "output_type": "error",
          "ename": "NameError",
          "evalue": "ignored",
          "traceback": [
            "\u001b[0;31m---------------------------------------------------------------------------\u001b[0m",
            "\u001b[0;31mNameError\u001b[0m                                 Traceback (most recent call last)",
            "\u001b[0;32m<ipython-input-13-0508e0fbba25>\u001b[0m in \u001b[0;36m<module>\u001b[0;34m\u001b[0m\n\u001b[1;32m      1\u001b[0m \u001b[0;32mfor\u001b[0m \u001b[0mindrow\u001b[0m \u001b[0;32min\u001b[0m \u001b[0mrange\u001b[0m\u001b[0;34m(\u001b[0m\u001b[0;36m3\u001b[0m\u001b[0;34m)\u001b[0m\u001b[0;34m:\u001b[0m\u001b[0;34m\u001b[0m\u001b[0;34m\u001b[0m\u001b[0m\n\u001b[0;32m----> 2\u001b[0;31m      \u001b[0mc\u001b[0m\u001b[0;34m.\u001b[0m\u001b[0mappend\u001b[0m \u001b[0;34m(\u001b[0m\u001b[0;34m[\u001b[0m\u001b[0;34m]\u001b[0m\u001b[0;34m)\u001b[0m\u001b[0;34m\u001b[0m\u001b[0;34m\u001b[0m\u001b[0m\n\u001b[0m\u001b[1;32m      3\u001b[0m      \u001b[0;32mfor\u001b[0m \u001b[0mindcol\u001b[0m \u001b[0;32min\u001b[0m \u001b[0mrange\u001b[0m\u001b[0;34m(\u001b[0m\u001b[0;36m3\u001b[0m\u001b[0;34m)\u001b[0m\u001b[0;34m:\u001b[0m\u001b[0;34m\u001b[0m\u001b[0;34m\u001b[0m\u001b[0m\n\u001b[1;32m      4\u001b[0m          \u001b[0mc\u001b[0m\u001b[0;34m[\u001b[0m\u001b[0mindrow\u001b[0m\u001b[0;34m]\u001b[0m\u001b[0;34m.\u001b[0m\u001b[0mappend\u001b[0m\u001b[0;34m(\u001b[0m\u001b[0;36m0\u001b[0m\u001b[0;34m)\u001b[0m\u001b[0;34m\u001b[0m\u001b[0;34m\u001b[0m\u001b[0m\n\u001b[1;32m      5\u001b[0m          \u001b[0;32mfor\u001b[0m \u001b[0mindaux\u001b[0m \u001b[0;32min\u001b[0m \u001b[0mrange\u001b[0m\u001b[0;34m(\u001b[0m\u001b[0;36m3\u001b[0m\u001b[0;34m)\u001b[0m\u001b[0;34m:\u001b[0m\u001b[0;34m\u001b[0m\u001b[0;34m\u001b[0m\u001b[0m\n",
            "\u001b[0;31mNameError\u001b[0m: name 'c' is not defined"
          ]
        }
      ]
    },
    {
      "cell_type": "code",
      "source": [
        "def perimeter(listing):\n",
        "  leng=len(listing)\n",
        "  perimeter=0;\n",
        "  for i in range(0,leng-1):\n",
        "    dist = (((listing[i][0]) - listing[i+1][0]) **2) + ((listing[i][1]-listing[i+1][1]) ** 2) ** 0.5\n",
        "    perimeter = perimeter + dist\n",
        "    perimeter = perimeter + (((listing[0][0]) - listing[leng-1][0]) **2) + ((listing[0][1]-listing[leng-1][1]) ** 2) ** 0.5\n",
        "    return perimeter\n",
        "    L = [(1,3),(2,7),[3,8],[8,3]]\n",
        "    print(perimeter(L))"
      ],
      "metadata": {
        "id": "iTp2vr9q-7y6"
      },
      "execution_count": 15,
      "outputs": []
    },
    {
      "cell_type": "code",
      "source": [
        "def symmDiff(a,b):\n",
        "  e = set()\n",
        "  for i in a :\n",
        "    if i not in b:\n",
        "      e.add(i)\n",
        "      for i in b:\n",
        "        if i not in a:\n",
        "          e.add(i)\n",
        "          return e \n",
        "  set1={0,1,2,3,4}\n",
        "  set2={6,7,8,9,5}\n",
        "  print(symmDiff(set1,set2))\n",
        "\n",
        "  print(set1.symmetric_difference(set2))\n",
        "  print(set2.symmetric_difference(set1))\n",
        "  print(set1^set2)\n",
        "  print(set2^set1)"
      ],
      "metadata": {
        "id": "wyL6FnWdBRGL"
      },
      "execution_count": 18,
      "outputs": []
    },
    {
      "cell_type": "code",
      "source": [
        "sample = {(\"malik\",\"ahmed\"):\"0377637373\",(\"khan\",\"li\"):\"767637\", (\"junaid\",\"laraib\"):\"676323\",}\n",
        "firstName = input(\"Enter First Name\")\n",
        "lastName = input(\"Enter Last Name\")\n",
        "\n",
        "searchTuple = (firstName, lastName)\n",
        "if searchTuple in sample:\n",
        "  print(sample[searchTuple])\n",
        "else:\n",
        "    print(\"Name not found\")"
      ],
      "metadata": {
        "colab": {
          "base_uri": "https://localhost:8080/"
        },
        "id": "YqVGa4Z5C4S0",
        "outputId": "e0cfc38d-41eb-4c88-ae63-3db09cb41042"
      },
      "execution_count": 20,
      "outputs": [
        {
          "output_type": "stream",
          "name": "stdout",
          "text": [
            "Enter First Namemalik\n",
            "Enter Last Nameahmed\n",
            "0377637373\n"
          ]
        }
      ]
    }
  ]
}