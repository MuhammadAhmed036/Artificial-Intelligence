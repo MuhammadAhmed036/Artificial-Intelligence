{
  "nbformat": 4,
  "nbformat_minor": 0,
  "metadata": {
    "colab": {
      "provenance": [],
      "authorship_tag": "ABX9TyOsIl1ROGMHaF3xjf0yYBHl",
      "include_colab_link": true
    },
    "kernelspec": {
      "name": "python3",
      "display_name": "Python 3"
    },
    "language_info": {
      "name": "python"
    }
  },
  "cells": [
    {
      "cell_type": "markdown",
      "metadata": {
        "id": "view-in-github",
        "colab_type": "text"
      },
      "source": [
        "<a href=\"https://colab.research.google.com/github/MuhammadAhmed036/Artificial-Intelligence/blob/main/Lab2.ipynb\" target=\"_parent\"><img src=\"https://colab.research.google.com/assets/colab-badge.svg\" alt=\"Open In Colab\"/></a>"
      ]
    },
    {
      "cell_type": "code",
      "execution_count": null,
      "metadata": {
        "colab": {
          "base_uri": "https://localhost:8080/"
        },
        "id": "4SH6vlt85YiC",
        "outputId": "57f3cbbd-764f-4e21-851f-ebb668408c7d"
      },
      "outputs": [
        {
          "output_type": "stream",
          "name": "stdout",
          "text": [
            "ENTER OBJECTS OF FIRST LIST\n",
            "Enter a value:2\n",
            "Enter a value:5\n",
            "Enter a value:6\n",
            "Enter a value:4\n",
            "Enter a value:5\n",
            "ENTER OBJECTS OF SECOND LIST\n",
            "Enter a value:2\n",
            "Enter a value:3\n",
            "Enter a value:5\n",
            "Enter a value:8\n",
            "Enter a value:9\n",
            "[2, 5, 6, 4, 5, 2, 3, 5, 8, 9]\n"
          ]
        },
        {
          "output_type": "execute_result",
          "data": {
            "text/plain": [
              "6"
            ]
          },
          "metadata": {},
          "execution_count": 6
        }
      ],
      "source": [
        "#Lab Activity 1\n",
        "myList1=[]\n",
        "print(\"ENTER OBJECTS OF FIRST LIST\")\n",
        "for i in range(5):\n",
        "  val=input(\"Enter a value:\")\n",
        "  n=int(val)\n",
        "  myList1.append(n)\n",
        "\n",
        "myList2=[]\n",
        "print(\"ENTER OBJECTS OF SECOND LIST\")\n",
        "for i in range(5):\n",
        "  val=input(\"Enter a value:\")\n",
        "  n=int(val)\n",
        "  myList2.append(n)\n",
        "\n",
        "list3=myList1+myList2;\n",
        "print(list3)\n",
        "86\n",
        "0\n",
        "63\n",
        "4\n",
        "\n",
        "\n"
      ]
    },
    {
      "cell_type": "code",
      "source": [
        "#Lab Activity 2\n",
        "def isPalindrome(word):\n",
        "  temp=word[::-1]\n",
        "  if temp.capitalize()==word.capitalize():\n",
        "    return True\n",
        "  else:\n",
        "    return False\n",
        "print (isPalindrome(\"AHMED\"))\n"
      ],
      "metadata": {
        "colab": {
          "base_uri": "https://localhost:8080/"
        },
        "id": "n-MzHQz39Et3",
        "outputId": "c2ef25b2-1cd6-4d3e-c248-290766a03e14"
      },
      "execution_count": null,
      "outputs": [
        {
          "output_type": "stream",
          "name": "stdout",
          "text": [
            "False\n"
          ]
        }
      ]
    },
    {
      "cell_type": "code",
      "source": [
        "#Lab Activity 3\n",
        "firstMatrix = [[2,5] , [1,2]]\n",
        "secondMatrix = [[3,2] , [5,6]]\n",
        "resultMatrix = []\n",
        "\n",
        "if len(firstMatrix) == len(secondMatrix):\n",
        "  for i in range(0,len(firstMatrix)):\n",
        "    resultMatrix.append([])\n",
        "    for j in range(0,len(firstMatrix)):\n",
        "      resultMatrix[i].append(0)\n",
        "\n",
        "  for row in range(0,len(firstMatrix)):\n",
        "    for col in range(0,len(firstMatrix)):\n",
        "      for k in range(0,len(firstMatrix)):\n",
        "        resultMatrix[row][col] += firstMatrix[row][k] * secondMatrix[k][col]\n",
        "  print(f\"Product of two 2D matrices is: {resultMatrix}\")\n",
        "else:\n",
        "  print(\"Matrices is incompatible for product\")"
      ],
      "metadata": {
        "colab": {
          "base_uri": "https://localhost:8080/"
        },
        "id": "KmiLFJkD90fZ",
        "outputId": "7e5e261e-a30e-426f-a756-24b7d19d8c4a"
      },
      "execution_count": 2,
      "outputs": [
        {
          "output_type": "stream",
          "name": "stdout",
          "text": [
            "Product of two 2D matrices is: [[31, 34], [13, 14]]\n"
          ]
        }
      ]
    },
    {
      "cell_type": "code",
      "source": [
        "#Lab Activity 4\n",
        "def perimeter(listing):\n",
        "  leng=len(listing)\n",
        "  perimeter=0;\n",
        "  for i in range(0,leng-1):\n",
        "    dist = (((listing[i][0]) - listing[i+1][0]) **2) + ((listing[i][1]-listing[i+1][1]) ** 2) ** 0.5\n",
        "    perimeter = perimeter + dist\n",
        "    perimeter = perimeter + (((listing[0][0]) - listing[leng-1][0]) **2) + ((listing[0][1]-listing[leng-1][1]) ** 2) ** 0.5\n",
        "    return perimeter\n",
        "    L = [(1,3),(2,7),[3,8],[8,3]]\n",
        "    print(perimeter(L))"
      ],
      "metadata": {
        "id": "iTp2vr9q-7y6"
      },
      "execution_count": null,
      "outputs": []
    },
    {
      "cell_type": "code",
      "source": [
        "#Lab Activity 5\n",
        "def symmDiff(a,b):\n",
        "  e = set()\n",
        "  for i in a :\n",
        "    if i not in b:\n",
        "      e.add(i)\n",
        "      for i in b:\n",
        "        if i not in a:\n",
        "          e.add(i)\n",
        "          return e \n",
        "  set1={0,1,2,3,4}\n",
        "  set2={6,7,8,9,5}\n",
        "  print(symmDiff(set1,set2))\n",
        "\n",
        "  print(set1.symmetric_difference(set2))\n",
        "  print(set2.symmetric_difference(set1))\n",
        "  print(set1^set2)\n",
        "  print(set2^set1)"
      ],
      "metadata": {
        "id": "wyL6FnWdBRGL"
      },
      "execution_count": null,
      "outputs": []
    },
    {
      "cell_type": "code",
      "source": [
        "#Lab Activity 6\n",
        "sample = {(\"malik\",\"ahmed\"):\"0377637373\",(\"khan\",\"li\"):\"767637\", (\"junaid\",\"laraib\"):\"676323\",}\n",
        "firstName = input(\"Enter First Name\")\n",
        "lastName = input(\"Enter Last Name\")\n",
        "\n",
        "searchTuple = (firstName, lastName)\n",
        "if searchTuple in sample:\n",
        "  print(sample[searchTuple])\n",
        "else:\n",
        "    print(\"Name not found\")"
      ],
      "metadata": {
        "colab": {
          "base_uri": "https://localhost:8080/"
        },
        "id": "YqVGa4Z5C4S0",
        "outputId": "e0cfc38d-41eb-4c88-ae63-3db09cb41042"
      },
      "execution_count": null,
      "outputs": [
        {
          "output_type": "stream",
          "name": "stdout",
          "text": [
            "Enter First Namemalik\n",
            "Enter Last Nameahmed\n",
            "0377637373\n"
          ]
        }
      ]
    },
    {
      "cell_type": "code",
      "source": [
        "#Lab Task 01 \n",
        "List1=[] \n",
        "print(\"Enter objects for first list\") \n",
        "for i in range(5):\n",
        " val=input(\"Enter a value\") \n",
        "n=int(val)\n",
        "List1.append(n) \n",
        "List2=[] \n",
        "print(\"Enter objects for second list\") \n",
        "for i in range(5):\n",
        " val=input(\"Enter a value\") \n",
        "n=int(val)\n",
        "List2.append(n)\n",
        "List3=List1+List2;\n",
        "List3.sort() \n",
        "print(\"Sorted List is\", List3)\n",
        "\n"
      ],
      "metadata": {
        "colab": {
          "base_uri": "https://localhost:8080/"
        },
        "id": "qFjX11BpNW3e",
        "outputId": "1f10bf12-9573-43ac-e67b-abe3a9ff78f2"
      },
      "execution_count": null,
      "outputs": [
        {
          "output_type": "stream",
          "name": "stdout",
          "text": [
            "Enter objects for first list\n",
            "Enter a value2\n",
            "Enter a value4\n",
            "Enter a value6\n",
            "Enter a value7\n",
            "Enter a value8\n",
            "Enter objects for second list\n",
            "Enter a value8\n",
            "Enter a value7\n",
            "Enter a value6\n",
            "Enter a value5\n",
            "Enter a value4\n",
            "Sorted List is [4, 8]\n"
          ]
        }
      ]
    },
    {
      "cell_type": "code",
      "source": [
        "# Lab Task 02\n",
        "List1=[]\n",
        "print(\"Enter objects for first list\") \n",
        "for i in range(5):\n",
        " val=input(\"Enter a value\")\n",
        " n=int(val)\n",
        " List1.append(n) \n",
        "List2=[]\n",
        "print(\"Enter objects for second list\")\n",
        "for i in range(5):\n",
        "  val=input(\"Enter a value\") \n",
        "n=int(val)\n",
        "List2.append(n) \n",
        "List3=List1+List2;\n",
        "print(\"Maximum number in list is : \", max(List3), \"\\n Minimum number in list is : \" , min(List3))4\n",
        "3\n",
        "446\n"
      ],
      "metadata": {
        "colab": {
          "base_uri": "https://localhost:8080/"
        },
        "id": "qjbaOlquNmY-",
        "outputId": "c2157124-c8f3-4f4b-d15e-258b4f5acf84"
      },
      "execution_count": 3,
      "outputs": [
        {
          "output_type": "stream",
          "name": "stdout",
          "text": [
            "Enter objects for first list\n",
            "Enter a value5\n",
            "Enter a value2\n",
            "Enter a value1\n",
            "Enter a value2\n",
            "Enter a value3\n",
            "Enter objects for second list\n",
            "Enter a value4\n",
            "Enter a value6\n",
            "Enter a value7\n",
            "Enter a value4\n",
            "Enter a value3\n",
            "Maximum number in list is :  5 \n",
            " Minimum number in list is :  1\n"
          ]
        }
      ]
    },
    {
      "cell_type": "code",
      "source": [
        "#Lab Task 4\n",
        "Dict={(\"Ahmed\"):\"1/03/2008\",(\"Ali\"):\"10/11/2000\",(\"Hassan\"):\"1/01/1990\"}\n",
        "print(\"Welcome to the birthday dictionary\")\n",
        "birthday=input(\"Who's birthday do you want to look up?\")\n",
        "search=birthday\n",
        "if search in Dict:\n",
        "  print(search +\"'s birthday is \",(Dict[search]))\n",
        "else:\n",
        "  print(\"We apologize\",search ,\"birthday does not exist\")"
      ],
      "metadata": {
        "colab": {
          "base_uri": "https://localhost:8080/"
        },
        "id": "iWKXuTQ76w6P",
        "outputId": "78d3f371-719d-449e-ca5f-7adb30edcb44"
      },
      "execution_count": 6,
      "outputs": [
        {
          "output_type": "stream",
          "name": "stdout",
          "text": [
            "Welcome to the birthday dictionary\n",
            "Who's birthday do you want to look up?Ahmed\n",
            "Ahmed's birthday is  1/03/2008\n"
          ]
        }
      ]
    },
    {
      "cell_type": "code",
      "source": [
        "#Lab Task 5\n",
        "Dict={\"name\":\"Ahmed\",\"age\":\"15\", \"salary\":\"38000\",\"city\":\"Wah Cantt\"}\n",
        "print(\"Given dictionary:\" , Dict)\n",
        "keys=[\"name\",\"salary\"]\n",
        "newDict={k:Dict[k] for k in keys}\n",
        "print(newDict)"
      ],
      "metadata": {
        "colab": {
          "base_uri": "https://localhost:8080/"
        },
        "id": "xfckR7Et7TZn",
        "outputId": "2b50fecf-4a40-41d7-d545-49ae09690a54"
      },
      "execution_count": 8,
      "outputs": [
        {
          "output_type": "stream",
          "name": "stdout",
          "text": [
            "Given dictionary: {'name': 'Ahmed', 'age': '15', 'salary': '38000', 'city': 'Wah Cantt'}\n",
            "{'name': 'Ahmed', 'salary': '38000'}\n"
          ]
        }
      ]
    }
  ]
}