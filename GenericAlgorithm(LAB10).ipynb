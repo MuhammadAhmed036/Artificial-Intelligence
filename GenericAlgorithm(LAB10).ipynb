{
  "nbformat": 4,
  "nbformat_minor": 0,
  "metadata": {
    "colab": {
      "provenance": [],
      "authorship_tag": "ABX9TyOiSkaxtufj+FaGxsAF0wBm",
      "include_colab_link": true
    },
    "kernelspec": {
      "name": "python3",
      "display_name": "Python 3"
    },
    "language_info": {
      "name": "python"
    }
  },
  "cells": [
    {
      "cell_type": "markdown",
      "metadata": {
        "id": "view-in-github",
        "colab_type": "text"
      },
      "source": [
        "<a href=\"https://colab.research.google.com/github/MuhammadAhmed036/Artificial-Intelligence/blob/main/GenericAlgorithm(LAB10).ipynb\" target=\"_parent\"><img src=\"https://colab.research.google.com/assets/colab-badge.svg\" alt=\"Open In Colab\"/></a>"
      ]
    },
    {
      "cell_type": "code",
      "execution_count": 3,
      "metadata": {
        "id": "VFUFgrkbr0tD",
        "colab": {
          "base_uri": "https://localhost:8080/",
          "height": 135
        },
        "outputId": "f0192b87-6388-4602-fce5-f365d277e56f"
      },
      "outputs": [
        {
          "output_type": "error",
          "ename": "SyntaxError",
          "evalue": "ignored",
          "traceback": [
            "\u001b[0;36m  File \u001b[0;32m\"<ipython-input-3-b4f64175e7cd>\"\u001b[0;36m, line \u001b[0;32m1\u001b[0m\n\u001b[0;31m    Open In Colab\u001b[0m\n\u001b[0m         ^\u001b[0m\n\u001b[0;31mSyntaxError\u001b[0m\u001b[0;31m:\u001b[0m invalid syntax\n"
          ]
        }
      ],
      "source": [
        "\n",
        "Open In Colab\n",
        "Genetic Algorithm\n",
        "Consider maxOne problem where the goal is to arrange a string of L bits into all ones. At first the solution may seem trivial i.e., for L=8 the solution is [1, 1, 1, 1, 1, 1, 1, 1]. Despite this we shall see how many iterations it will take for an instance of genetic algorithm to find the solution. Solution: We start by looking at the GA class which is instantiated by providing individualSize (length of chromosome or L in our case) and populationSize (how many survivors will we retain in each generation). The instance variable population is a dictionary of items where each item contains a bit array of an individual and its heuristic distance from the goal. The variable totalFitness maintains the total heuristic value of each generation/population.\n",
        "\n",
        "\n",
        "import random\n",
        "import math\n",
        "\n",
        "class GA:\n",
        "   def __init__(self, individualSize, populationSize):\n",
        "      self.population=dict()\n",
        "      self. individualSize = individualSize \n",
        "      self.populationSize = populationSize \n",
        "      self.totalFitness=0\n",
        "      i=0\n",
        "      while i < populationSize:\n",
        "         listOfBits = [0] * individualSize\n",
        "         listOfLocations = list(range(0,individualSize)) \n",
        "         numberOfOnes = random.randint(0, individualSize-1) \n",
        "         onesLocations = random.sample(listOfLocations,numberOfOnes) \n",
        "         for j in onesLocations:\n",
        "            listOfBits[j]=1\n",
        "            self.population[i]=[listOfBits, numberOfOnes] \n",
        "            self.totalFitness = self.totalFitness + numberOfOnes \n",
        "            i=i+1\n",
        "            \n",
        "   def updatePopulationFitness(self):\n",
        "      self.totalFitness = 0\n",
        "      for individual in self.population: \n",
        "         individualFitness=sum(self.population[individual][0])\n",
        "         self.population[individual][1] = individualFitness \n",
        "         self.totalFitness = self.totalFitness + individualFitness\n",
        "         \n",
        "   def selectParents(self):\n",
        "        rouletteWheel=[]\n",
        "        wheelSize=self.populationSize*5 \n",
        "        h_n=[]\n",
        "        for individual in self.population:\n",
        "            h_n.append(self.population[individual][1])\n",
        "        j=0\n",
        "        for individual in self.population:\n",
        "            individualLength=round(wheelSize*(h_n[j]/sum(h_n)))\n",
        "            j=j+1\n",
        "            if individualLength>0:\n",
        "                i=0\n",
        "                while i < individualLength:\n",
        "                    rouletteWheel.append(individual)\n",
        "                    i=i+1\n",
        "        random.shuffle(rouletteWheel)\n",
        "        parentIndices=[]\n",
        "        i=0\n",
        "        while i< self.populationSize: \n",
        "            parentIndices.append(rouletteWheel[\n",
        "                random.randint(0, len(rouletteWheel)-1)])\n",
        "            i=i+1 \n",
        "        newGeneration=dict()\n",
        "        i=0\n",
        "        while i < self.populationSize:\n",
        "            newGeneration[i]=self.population[parentIndices[i]].copy()\n",
        "            i=i+1\n",
        "        del self.population\n",
        "        self.population = newGeneration.copy() \n",
        "        self.updatePopulationFitness()\n",
        "        \n",
        "\n",
        "\n",
        "  #\n",
        "   def generateChildren(self, crossoverProbability):\n",
        "      numberOfPairs = round(crossoverProbability*self.populationSize/2) \n",
        "      individualIndices = list(range(0,self.populationSize)) \n",
        "      random.shuffle(individualIndices)\n",
        "      i=0\n",
        "      j=0\n",
        "      \n",
        "\n",
        "individualSize, populationSize = 8, 10\n",
        "i=0\n",
        "instance = GA(individualSize,populationSize)\n",
        "while True:\n",
        " instance.selectParents()\n",
        " instance.generateChildren(0.8) \n",
        " instance.mutateChildren(0.03)\n",
        " print(instance.population)\n",
        " print(instance.totalFitness)\n",
        " print(i)\n",
        " i=i+1\n",
        " found=False\n",
        " for individual in instance.population:\n",
        "   if instance.population[individual][1]==individualSize:      \n",
        "     found=True\n",
        "     break\n",
        " if found:\n",
        "   break\n",
        "     \n",
        "\n",
        "\n",
        "     "
      ]
    }
  ]
}