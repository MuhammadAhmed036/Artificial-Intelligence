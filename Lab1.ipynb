{
  "nbformat": 4,
  "nbformat_minor": 0,
  "metadata": {
    "colab": {
      "provenance": [],
      "authorship_tag": "ABX9TyPkSIpjV5IHFp2/smnxPxzk",
      "include_colab_link": true
    },
    "kernelspec": {
      "name": "python3",
      "display_name": "Python 3"
    },
    "language_info": {
      "name": "python"
    }
  },
  "cells": [
    {
      "cell_type": "markdown",
      "metadata": {
        "id": "view-in-github",
        "colab_type": "text"
      },
      "source": [
        "<a href=\"https://colab.research.google.com/github/MuhammadAhmed036/Artificial-Intelligence/blob/main/Untitled2.ipynb\" target=\"_parent\"><img src=\"https://colab.research.google.com/assets/colab-badge.svg\" alt=\"Open In Colab\"/></a>"
      ]
    },
    {
      "cell_type": "code",
      "execution_count": 1,
      "metadata": {
        "colab": {
          "base_uri": "https://localhost:8080/"
        },
        "id": "iRnGFV5YUJE_",
        "outputId": "fe9c5979-24a6-4888-fa71-7fa15be99e1c"
      },
      "outputs": [
        {
          "output_type": "stream",
          "name": "stdout",
          "text": [
            "Enter a number: 87\n",
            "Number is Odd\n"
          ]
        }
      ],
      "source": [
        "# Lab Activity 1\n",
        "# Check whether the number is Even or Odd\n",
        "number = int(input(\"Enter a number: \"))\n",
        "if (number % 2 == 0):\n",
        "  print(\"Number is even\")\n",
        "else:\n",
        "  print(\"Number is Odd\")"
      ]
    },
    {
      "cell_type": "code",
      "source": [
        "# Lab Activity 2\n",
        "# Write a Python code to keep accepting integer values from user until 0 is entered.\n",
        "# Display sum of the given values.\n",
        "\n",
        "number = int(input(\"Enter a number: \"))\n",
        "sumOfNumbers = 0\n",
        "while number!=0:\n",
        "  sumOfNumbers += number\n",
        "  number = int(input(\"Enter a number: \"))\n",
        "\n",
        "print(f\"Sum of numbers is: {sumOfNumbers}\")"
      ],
      "metadata": {
        "colab": {
          "base_uri": "https://localhost:8080/"
        },
        "id": "DXYFQzHNWXoy",
        "outputId": "9d949a5e-a1c2-4be4-fd5b-0498725bce71"
      },
      "execution_count": 4,
      "outputs": [
        {
          "output_type": "stream",
          "name": "stdout",
          "text": [
            "Enter a number: 2\n",
            "Enter a number: 26\n",
            "Enter a number: 34\n",
            "Enter a number: 36\n",
            "Enter a number: 1\n",
            "Enter a number: 21\n",
            "Enter a number: 11\n",
            "Enter a number: 12\n",
            "Enter a number: 0\n",
            "Sum of numbers is: 143\n"
          ]
        }
      ]
    },
    {
      "cell_type": "code",
      "source": [
        "# Lab Activity 3\n",
        "# Check whether the number is prime or not\n",
        "number = int(input('Enter a number : '))\n",
        "counter = 0\n",
        "for i in range (1, number + 1):\n",
        "    if(number % i == 0):\n",
        "        counter += 1;\n",
        "if(counter == 2):\n",
        "    print(f\"{number} is a Prime number\")\n",
        "else:\n",
        "    print(f\"{number} is NOT a Prime number\")"
      ],
      "metadata": {
        "colab": {
          "base_uri": "https://localhost:8080/"
        },
        "id": "yCO6_emKWjWZ",
        "outputId": "7cd4bbe0-734f-457b-c767-8cb110dabb81"
      },
      "execution_count": 5,
      "outputs": [
        {
          "output_type": "stream",
          "name": "stdout",
          "text": [
            "Enter a number : 12\n",
            "12 is NOT a Prime number\n"
          ]
        }
      ]
    },
    {
      "cell_type": "code",
      "source": [
        "# Lab Activity 4\n",
        "# Accept 5 integer values from user and display their sum.\n",
        "sumofNumbers = 0\n",
        "counter = 0\n",
        "while counter!=5:\n",
        "  number = int(input(\"Enter number: \"))\n",
        "  sumofNumbers+=number\n",
        "  counter+=1\n",
        "print(f\"Sum of Numbers is: {sumofNumbers}\")"
      ],
      "metadata": {
        "colab": {
          "base_uri": "https://localhost:8080/"
        },
        "id": "of9kGlBuW0kQ",
        "outputId": "c36b004c-ce8c-4a91-e768-88b7bc5456ed"
      },
      "execution_count": 8,
      "outputs": [
        {
          "output_type": "stream",
          "name": "stdout",
          "text": [
            "Enter number: 76\n",
            "Enter number: 3\n",
            "Enter number: 2\n",
            "Enter number: 45\n",
            "Enter number: 23\n",
            "Sum of Numbers is: 149\n"
          ]
        }
      ]
    },
    {
      "cell_type": "code",
      "source": [
        "# Lab Activity 5\n",
        "# Calculate the sum of all the values between 0-10 using while loop.\n",
        "\n",
        "sumOfNumbers = 0\n",
        "counter = 1\n",
        "while counter <= 10:\n",
        "  sumOfNumbers += counter\n",
        "  counter += 1\n",
        "print(f\"Sum of 0-10 is: {sumOfNumbers}\")"
      ],
      "metadata": {
        "colab": {
          "base_uri": "https://localhost:8080/"
        },
        "id": "P7a7Rf0TXsyw",
        "outputId": "953b7f0b-e397-4e5b-da6c-54a7982dea18"
      },
      "execution_count": 9,
      "outputs": [
        {
          "output_type": "stream",
          "name": "stdout",
          "text": [
            "Sum of 0-10 is: 55\n"
          ]
        }
      ]
    },
    {
      "cell_type": "code",
      "source": [
        "\n",
        "# Lab Activity 6\n",
        "# Take Input From The User\n",
        "name = input(\"Enter Your Name:: \")\n",
        "Registration_num = input(\"Enter Your Registration Number:: \")\n",
        "print(\"Your name is:: \" + name + \"\\n\" + \"Your Registration number is:: \" + Registration_num)"
      ],
      "metadata": {
        "colab": {
          "base_uri": "https://localhost:8080/"
        },
        "id": "NdL_pUdsYgyf",
        "outputId": "bfa04f50-213d-4abc-fffe-806230793061"
      },
      "execution_count": 10,
      "outputs": [
        {
          "output_type": "stream",
          "name": "stdout",
          "text": [
            "Enter Your Name:: Muhammad Ahmed\n",
            "Enter Your Registration Number:: FA20-BCS-036\n",
            "Your name is:: Muhammad Ahmed\n",
            "Your Registration number is:: FA20-BCS-036\n"
          ]
        }
      ]
    },
    {
      "cell_type": "code",
      "source": [
        "\n",
        "# Lab Activity 7\n",
        "# Guess the number\n",
        "import random\n",
        "import sys\n",
        "number = random.randint(1, 9)\n",
        "App_run = True\n",
        "Tries = 0\n",
        "while App_run:\n",
        "    Guessed = int(input(\"Guess the number:: \"))\n",
        "    if Guessed < number:\n",
        "        print(\"The number is too Low!! \")\n",
        "    elif Guessed > number:\n",
        "        print(\"The number is too High!! \")\n",
        "    elif Guessed == number:\n",
        "        print(\"You Got it!! Welldone \")\n",
        "    elif str(Guessed).lower() == \"exit\":\n",
        "        print(\"Thank You For Playing! \")\n",
        "        sys.exit()\n",
        "        if Tries < 2:\n",
        "            print(\"You Have \" + str(Tries) + \" Tries Left\")\n",
        "        elif Tries > 2 and Tries < 10:\n",
        "            print(\"Good\" + str(Tries) + \" Tries Left\")\n",
        "        else:\n",
        "            print(\"No Tries Left!! \" + str(Tries))\n",
        "    App_run = False\n",
        "Tries += 1\n",
        "print(\"The correct number is: \" + str(number))"
      ],
      "metadata": {
        "colab": {
          "base_uri": "https://localhost:8080/"
        },
        "id": "AVV4X3KjY7nq",
        "outputId": "d68d0f17-dc0f-4d64-e78b-53b51bacbbd8"
      },
      "execution_count": 11,
      "outputs": [
        {
          "output_type": "stream",
          "name": "stdout",
          "text": [
            "Guess the number:: 23\n",
            "The number is too High!! \n",
            "The correct number is: 6\n"
          ]
        }
      ]
    },
    {
      "cell_type": "code",
      "source": [
        "# Lab Task 1\n",
        "# Write a program that prompts the user to input an integer and \n",
        "# then outputs the number with the digits reversed. \n",
        "# For example, if the input is 12345, the output should be 54321.\n",
        "\n",
        "number = int(input(\"Enter a number: \"))\n",
        "reverseNumber = 0\n",
        "while number != 0:\n",
        "  remainder = number % 10\n",
        "  reverseNumber = (reverseNumber * 10) + remainder\n",
        "  number = number // 10\n",
        "print(f\"Reverse number is: {reverseNumber}\")"
      ],
      "metadata": {
        "colab": {
          "base_uri": "https://localhost:8080/"
        },
        "id": "S1Nvk3dSZKC6",
        "outputId": "d75d17cb-c54b-46dd-e18d-3e92a4ef9056"
      },
      "execution_count": 12,
      "outputs": [
        {
          "output_type": "stream",
          "name": "stdout",
          "text": [
            "Enter a number: 23512\n",
            "Reverse number is: 21532\n"
          ]
        }
      ]
    },
    {
      "cell_type": "code",
      "source": [
        "# Lab Task 2\n",
        "# Write a program that reads a set of integers, and then \n",
        "# prints the sum of the even and odd integers.\n",
        "\n",
        "sumOfEvenNumbers = 0\n",
        "sumOfOddNumbers = 0\n",
        "\n",
        "counter = 0\n",
        "while counter < 10:\n",
        "  number = int(input('Enter a number : '))\n",
        "  if number % 2 == 0:\n",
        "    sumOfEvenNumbers += number\n",
        "  else:\n",
        "    sumOfOddNumbers += number\n",
        "  counter += 1\n",
        "print(f\"Sum of Even Numbers is: {sumOfEvenNumbers}\")\n",
        "print(f\"Sum of Odd Numbers is: {sumOfOddNumbers}\")"
      ],
      "metadata": {
        "colab": {
          "base_uri": "https://localhost:8080/"
        },
        "id": "LhBaxG3IZVHo",
        "outputId": "23331929-302e-414e-b385-887ead9d3cfb"
      },
      "execution_count": 13,
      "outputs": [
        {
          "output_type": "stream",
          "name": "stdout",
          "text": [
            "Enter a number : 2\n",
            "Enter a number : 5\n",
            "Enter a number : 34\n",
            "Enter a number : 23\n",
            "Enter a number : 65\n",
            "Enter a number : 78\n",
            "Enter a number : 55\n",
            "Enter a number : 42\n",
            "Enter a number : 88\n",
            "Enter a number : 21\n",
            "Sum of Even Numbers is: 244\n",
            "Sum of Odd Numbers is: 169\n"
          ]
        }
      ]
    },
    {
      "cell_type": "code",
      "source": [
        "# Lab Task 3\n",
        "# Fabonacci Series\n",
        "number = int(input(\"Enter a number : \"))\n",
        "fabonacci_series = \"\"\n",
        "a = 0\n",
        "b = 1\n",
        "c = 0\n",
        "for i in range (1, number + 1):\n",
        "    fabonacci_series += (f\"{c} \")\n",
        "    c = a + b\n",
        "    a = b\n",
        "    b = c\n",
        "print(fabonacci_series)"
      ],
      "metadata": {
        "colab": {
          "base_uri": "https://localhost:8080/"
        },
        "id": "nAueWFxhZ4T4",
        "outputId": "be991294-af8f-47d4-ab8b-ade760573082"
      },
      "execution_count": 14,
      "outputs": [
        {
          "output_type": "stream",
          "name": "stdout",
          "text": [
            "Enter a number : 5\n",
            "0 1 2 3 5 \n"
          ]
        }
      ]
    },
    {
      "cell_type": "code",
      "source": [
        "# Lab Task 4\n",
        "# Grading System\n",
        "marks = int(input(\"Enter Your Marks: \"))\n",
        "\n",
        "if marks > 90:\n",
        "  print(\"A grade\")\n",
        "elif marks > 80 and marks <= 89:\n",
        "  print(\"B grade\")\n",
        "elif marks > 70 and marks <= 79:\n",
        "  print(\"C grade\")\n",
        "elif marks > 60 and marks <= 69:\n",
        "  print(\"D grade\")\n",
        "elif marks >= 50 and marks <=60:\n",
        "  print(\"E grade\")\n",
        "else:\n",
        "  print(\"F grade\")"
      ],
      "metadata": {
        "colab": {
          "base_uri": "https://localhost:8080/"
        },
        "id": "ZawqftDTaACx",
        "outputId": "d1a2bdb6-65a9-4d94-dc3c-2ea1aa5fc528"
      },
      "execution_count": 19,
      "outputs": [
        {
          "output_type": "stream",
          "name": "stdout",
          "text": [
            "Enter Your Marks: 96\n",
            "A grade\n"
          ]
        }
      ]
    },
    {
      "cell_type": "code",
      "source": [
        "# Lab Task 5\n",
        "# Factorial of a number\n",
        "\n",
        "number = int(input(\"Enter a number: \"))\n",
        "factorial = 1\n",
        "\n",
        "for i in range(1, number+1):\n",
        "  factorial *= i\n",
        "print(f'Factorial of {number} is {factorial}')"
      ],
      "metadata": {
        "colab": {
          "base_uri": "https://localhost:8080/"
        },
        "id": "khEXIgqkaGs6",
        "outputId": "14863cbf-33ea-43ab-8dc0-9cbe79b673ba"
      },
      "execution_count": 16,
      "outputs": [
        {
          "output_type": "stream",
          "name": "stdout",
          "text": [
            "Enter a number: 6\n",
            "Factorial of 6 is 720\n"
          ]
        }
      ]
    }
  ]
}
